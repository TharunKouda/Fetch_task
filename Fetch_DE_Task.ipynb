{
 "cells": [
  {
   "cell_type": "code",
   "execution_count": 1,
   "id": "7963834a",
   "metadata": {},
   "outputs": [
    {
     "name": "stdout",
     "output_type": "stream",
     "text": [
      "Requirement already satisfied: awscli-local in c:\\users\\tharu\\new folder\\lib\\site-packages (0.21)\n",
      "Requirement already satisfied: localstack-client in c:\\users\\tharu\\new folder\\lib\\site-packages (from awscli-local) (2.3)\n",
      "Requirement already satisfied: boto3 in c:\\users\\tharu\\new folder\\lib\\site-packages (from localstack-client->awscli-local) (1.28.57)\n",
      "Requirement already satisfied: botocore<1.32.0,>=1.31.57 in c:\\users\\tharu\\new folder\\lib\\site-packages (from boto3->localstack-client->awscli-local) (1.31.57)\n",
      "Requirement already satisfied: s3transfer<0.8.0,>=0.7.0 in c:\\users\\tharu\\new folder\\lib\\site-packages (from boto3->localstack-client->awscli-local) (0.7.0)\n",
      "Requirement already satisfied: jmespath<2.0.0,>=0.7.1 in c:\\users\\tharu\\new folder\\lib\\site-packages (from boto3->localstack-client->awscli-local) (0.10.0)\n",
      "Requirement already satisfied: python-dateutil<3.0.0,>=2.1 in c:\\users\\tharu\\new folder\\lib\\site-packages (from botocore<1.32.0,>=1.31.57->boto3->localstack-client->awscli-local) (2.8.2)\n",
      "Requirement already satisfied: urllib3<1.27,>=1.25.4 in c:\\users\\tharu\\new folder\\lib\\site-packages (from botocore<1.32.0,>=1.31.57->boto3->localstack-client->awscli-local) (1.26.14)\n",
      "Requirement already satisfied: six>=1.5 in c:\\users\\tharu\\new folder\\lib\\site-packages (from python-dateutil<3.0.0,>=2.1->botocore<1.32.0,>=1.31.57->boto3->localstack-client->awscli-local) (1.16.0)\n"
     ]
    }
   ],
   "source": [
    "!pip install awscli-local\n"
   ]
  },
  {
   "cell_type": "code",
   "execution_count": 2,
   "id": "997962b3",
   "metadata": {},
   "outputs": [
    {
     "name": "stdout",
     "output_type": "stream",
     "text": [
      "Requirement already satisfied: boto3 in c:\\users\\tharu\\new folder\\lib\\site-packages (1.28.57)\n",
      "Requirement already satisfied: botocore<1.32.0,>=1.31.57 in c:\\users\\tharu\\new folder\\lib\\site-packages (from boto3) (1.31.57)\n",
      "Requirement already satisfied: s3transfer<0.8.0,>=0.7.0 in c:\\users\\tharu\\new folder\\lib\\site-packages (from boto3) (0.7.0)\n",
      "Requirement already satisfied: jmespath<2.0.0,>=0.7.1 in c:\\users\\tharu\\new folder\\lib\\site-packages (from boto3) (0.10.0)\n",
      "Requirement already satisfied: python-dateutil<3.0.0,>=2.1 in c:\\users\\tharu\\new folder\\lib\\site-packages (from botocore<1.32.0,>=1.31.57->boto3) (2.8.2)\n",
      "Requirement already satisfied: urllib3<1.27,>=1.25.4 in c:\\users\\tharu\\new folder\\lib\\site-packages (from botocore<1.32.0,>=1.31.57->boto3) (1.26.14)\n",
      "Requirement already satisfied: six>=1.5 in c:\\users\\tharu\\new folder\\lib\\site-packages (from python-dateutil<3.0.0,>=2.1->botocore<1.32.0,>=1.31.57->boto3) (1.16.0)\n"
     ]
    }
   ],
   "source": [
    "!pip install boto3"
   ]
  },
  {
   "cell_type": "code",
   "execution_count": 80,
   "id": "c6dfb0d8",
   "metadata": {},
   "outputs": [],
   "source": [
    "import boto3\n",
    "\n",
    "# Configure boto3 to use the localstack endpoint for SQS and specify a mock region\n",
    "sqs = boto3.client(\n",
    "    'sqs',\n",
    "    region_name='us-east-1', \n",
    "    endpoint_url='http://localhost:4566',\n",
    "    aws_access_key_id='dummy_access_key', \n",
    "    aws_secret_access_key='dummy_secret_key'\n",
    ")\n"
   ]
  },
  {
   "cell_type": "code",
   "execution_count": 81,
   "id": "e35af85e",
   "metadata": {},
   "outputs": [],
   "source": [
    "def fetch_messages(queue_url, max_messages=10):\n",
    "    \"\"\"\n",
    "    Fetch a batch of messages from the specified SQS queue.\n",
    "    \n",
    "    :param queue_url: The URL of the SQS queue.\n",
    "    :param max_messages: The maximum number of messages to fetch in one request.\n",
    "    :return: A list of messages.\n",
    "    \"\"\"\n",
    "    response = sqs.receive_message(\n",
    "        QueueUrl=queue_url,\n",
    "        MaxNumberOfMessages=max_messages\n",
    "    )\n",
    "    return response.get('Messages', [])\n"
   ]
  },
  {
   "cell_type": "code",
   "execution_count": 82,
   "id": "a63d70e7",
   "metadata": {},
   "outputs": [
    {
     "name": "stdout",
     "output_type": "stream",
     "text": [
      "[{'MessageId': '182a0c29-0935-4b10-a9f0-665d1bf370b9', 'ReceiptHandle': 'ZWUwZmM4ZDUtZTUyMS00ZDU3LTlmYjktYzIwYjA5OWNkZDdhIGFybjphd3M6c3FzOnVzLWVhc3QtMTowMDAwMDAwMDAwMDA6bG9naW4tcXVldWUgMTgyYTBjMjktMDkzNS00YjEwLWE5ZjAtNjY1ZDFiZjM3MGI5IDE2OTYyMTkyNjUuNzM0MTc2Mg==', 'MD5OfBody': 'e4f1de8c099c0acd7cb05ba9e790ac02', 'Body': '{\"user_id\": \"424cdd21-063a-43a7-b91b-7ca1a833afae\", \"app_version\": \"2.3.0\", \"device_type\": \"android\", \"ip\": \"199.172.111.135\", \"locale\": \"RU\", \"device_id\": \"593-47-5928\"}'}, {'MessageId': '0f6b0334-7e00-410c-b36d-06f9bba80f66', 'ReceiptHandle': 'MjllMjhlMGItMjAzNi00N2E2LWI1ZDUtNGMxYzllOWQ3OTkwIGFybjphd3M6c3FzOnVzLWVhc3QtMTowMDAwMDAwMDAwMDA6bG9naW4tcXVldWUgMGY2YjAzMzQtN2UwMC00MTBjLWIzNmQtMDZmOWJiYTgwZjY2IDE2OTYyMTkyNjUuNzM0NzMxNw==', 'MD5OfBody': '347f6ce29bd4f361b13bc54c05d0a5fc', 'Body': '{\"user_id\": \"c0173198-76a8-4e67-bfc2-74eaa3bbff57\", \"app_version\": \"0.2.6\", \"device_type\": \"ios\", \"ip\": \"241.6.88.151\", \"locale\": \"PH\", \"device_id\": \"104-25-0070\"}'}, {'MessageId': 'a63edfd2-29c5-472f-8b43-4ec8424762ab', 'ReceiptHandle': 'Mjk1ZmY2MWYtYTM4Ni00ZjA1LTg0ODQtZjMzM2UyMjc0ODViIGFybjphd3M6c3FzOnVzLWVhc3QtMTowMDAwMDAwMDAwMDA6bG9naW4tcXVldWUgYTYzZWRmZDItMjljNS00NzJmLThiNDMtNGVjODQyNDc2MmFiIDE2OTYyMTkyNjUuNzM0ODk2Mg==', 'MD5OfBody': '13a2f8b8b0eb99bed46f3a2a5548a601', 'Body': '{\"user_id\": \"66e0635b-ce36-4ec7-aa9e-8a8fca9b83d4\", \"app_version\": \"2.2.1\", \"device_type\": \"ios\", \"ip\": \"130.111.167.54\", \"locale\": null, \"device_id\": \"127-42-0862\"}'}, {'MessageId': '40d3eb04-8676-4ec5-95ca-d4e1067bff14', 'ReceiptHandle': 'NzY1NzhhMmYtMmRkMi00OTlmLTkwMmYtNzE0OTMxZDRlMzk0IGFybjphd3M6c3FzOnVzLWVhc3QtMTowMDAwMDAwMDAwMDA6bG9naW4tcXVldWUgNDBkM2ViMDQtODY3Ni00ZWM1LTk1Y2EtZDRlMTA2N2JmZjE0IDE2OTYyMTkyNjUuNzM1MDA5Mg==', 'MD5OfBody': '97cd3106990ee7cc663d3e7cd2f6cd4d', 'Body': '{\"user_id\": \"181452ad-20c3-4e93-86ad-1934c9248903\", \"app_version\": \"0.96\", \"device_type\": \"android\", \"ip\": \"118.79.6.245\", \"locale\": \"ID\", \"device_id\": \"190-44-3099\"}'}, {'MessageId': 'de8be7ad-0a67-4ccf-9419-418c22614c18', 'ReceiptHandle': 'NWNkY2UxYjgtMTY2NS00NjljLWFjZGMtMTI5ZjEyMTRjNjRmIGFybjphd3M6c3FzOnVzLWVhc3QtMTowMDAwMDAwMDAwMDA6bG9naW4tcXVldWUgZGU4YmU3YWQtMGE2Ny00Y2NmLTk0MTktNDE4YzIyNjE0YzE4IDE2OTYyMTkyNjUuNzM1MTA1OA==', 'MD5OfBody': '1dbb6e2abb89c160500061a651a05f6d', 'Body': '{\"user_id\": \"60b9441c-e39d-406f-bba0-c7ff0e0ee07f\", \"app_version\": \"0.4.6\", \"device_type\": \"android\", \"ip\": \"223.31.97.46\", \"locale\": \"FR\", \"device_id\": \"149-99-5185\"}'}, {'MessageId': 'e8967aff-06d9-45f8-b6e3-e55d21149add', 'ReceiptHandle': 'ZmE0NWM0ZWEtYWNlZC00ZjBhLTk3YmQtNDAwOWIwYzg4ZWUxIGFybjphd3M6c3FzOnVzLWVhc3QtMTowMDAwMDAwMDAwMDA6bG9naW4tcXVldWUgZTg5NjdhZmYtMDZkOS00NWY4LWI2ZTMtZTU1ZDIxMTQ5YWRkIDE2OTYyMTkyNjUuNzM1MTk5NQ==', 'MD5OfBody': '2bc91e2084e9d084784c11959ddf9f01', 'Body': '{\"user_id\": \"5082b1ae-6523-4e3b-a1d8-9750b4407ee8\", \"app_version\": \"3.7\", \"device_type\": \"android\", \"ip\": \"235.167.63.6\", \"locale\": null, \"device_id\": \"346-96-4168\"}'}, {'MessageId': '371db5d1-59de-4c1d-a520-a50f556d98b2', 'ReceiptHandle': 'ZmFlYjIwYzgtYzY5ZS00ZjNkLWIxMGItYzY0ZDg3NTExZGI5IGFybjphd3M6c3FzOnVzLWVhc3QtMTowMDAwMDAwMDAwMDA6bG9naW4tcXVldWUgMzcxZGI1ZDEtNTlkZS00YzFkLWE1MjAtYTUwZjU1NmQ5OGIyIDE2OTYyMTkyNjUuNzM1MjY4Ng==', 'MD5OfBody': '789fafa471f7330deb789f421a6f226f', 'Body': '{\"user_id\": \"5bc74293-3ca1-4f34-bb89-523887d0cc2f\", \"app_version\": \"2.2.8\", \"device_type\": \"ios\", \"ip\": \"240.162.230.101\", \"locale\": \"PT\", \"device_id\": \"729-06-2799\"}'}, {'MessageId': 'a334a8ea-8ebe-4589-8a6a-80ecc7d80cfa', 'ReceiptHandle': 'NzhkMDE2MTUtNGUyMC00Yzg5LThhYzItOWRiMzBkOTkyZGVmIGFybjphd3M6c3FzOnVzLWVhc3QtMTowMDAwMDAwMDAwMDA6bG9naW4tcXVldWUgYTMzNGE4ZWEtOGViZS00NTg5LThhNmEtODBlY2M3ZDgwY2ZhIDE2OTYyMTkyNjUuNzM1MzM0', 'MD5OfBody': 'b214008b4c0170823dfc4e8adb481502', 'Body': '{\"user_id\": \"92d8ceec-2e12-49f3-81bd-518fe66971ec\", \"app_version\": \"0.5.5\", \"device_type\": \"android\", \"ip\": \"194.99.130.72\", \"locale\": \"BR\", \"device_id\": \"762-96-1217\"}'}, {'MessageId': '0b069d00-43f8-41af-9557-f10602cb250c', 'ReceiptHandle': 'MTM5OTM2NGQtZDY2ZS00M2EwLWFhNGItY2JjMDkxNmM5YjZjIGFybjphd3M6c3FzOnVzLWVhc3QtMTowMDAwMDAwMDAwMDA6bG9naW4tcXVldWUgMGIwNjlkMDAtNDNmOC00MWFmLTk1NTctZjEwNjAyY2IyNTBjIDE2OTYyMTkyNjUuNzM1NDU1NQ==', 'MD5OfBody': '60b50843a65a7b54f882f8749744569a', 'Body': '{\"user_id\": \"05e153b1-4fa1-474c-bd7e-9f74d1c495e7\", \"app_version\": \"0.5.0\", \"device_type\": \"android\", \"ip\": \"163.2.96.136\", \"locale\": null, \"device_id\": \"431-77-3545\"}'}, {'MessageId': 'fb18acbd-c1cf-4eae-a038-beaf5083b67f', 'ReceiptHandle': 'YmEwYTI1NzUtZTAzOC00YmEyLThkNWEtNmQ5Mjk5MWMzYjIwIGFybjphd3M6c3FzOnVzLWVhc3QtMTowMDAwMDAwMDAwMDA6bG9naW4tcXVldWUgZmIxOGFjYmQtYzFjZi00ZWFlLWEwMzgtYmVhZjUwODNiNjdmIDE2OTYyMTkyNjUuNzM1NTU0Mg==', 'MD5OfBody': '743825ffb45c4d43f389778c7f70514f', 'Body': '{\"user_id\": \"325c0f3d-da25-45ff-aff4-81816db069bc\", \"app_version\": \"0.60\", \"device_type\": \"android\", \"ip\": \"172.99.101.28\", \"locale\": \"RU\", \"device_id\": \"649-26-7827\"}'}]\n"
     ]
    }
   ],
   "source": [
    "QUEUE_URL = 'http://localhost:4566/000000000000/login-queue'\n",
    "messages = fetch_messages(QUEUE_URL)\n",
    "print(messages)\n"
   ]
  },
  {
   "cell_type": "code",
   "execution_count": 83,
   "id": "a591b965",
   "metadata": {},
   "outputs": [],
   "source": [
    "bodies = [json.loads(message['Body']) for message in messages]\n"
   ]
  },
  {
   "cell_type": "code",
   "execution_count": 84,
   "id": "9eabe668",
   "metadata": {},
   "outputs": [
    {
     "data": {
      "text/plain": [
       "[{'user_id': '424cdd21-063a-43a7-b91b-7ca1a833afae',\n",
       "  'app_version': '2.3.0',\n",
       "  'device_type': 'android',\n",
       "  'ip': '199.172.111.135',\n",
       "  'locale': 'RU',\n",
       "  'device_id': '593-47-5928'},\n",
       " {'user_id': 'c0173198-76a8-4e67-bfc2-74eaa3bbff57',\n",
       "  'app_version': '0.2.6',\n",
       "  'device_type': 'ios',\n",
       "  'ip': '241.6.88.151',\n",
       "  'locale': 'PH',\n",
       "  'device_id': '104-25-0070'},\n",
       " {'user_id': '66e0635b-ce36-4ec7-aa9e-8a8fca9b83d4',\n",
       "  'app_version': '2.2.1',\n",
       "  'device_type': 'ios',\n",
       "  'ip': '130.111.167.54',\n",
       "  'locale': None,\n",
       "  'device_id': '127-42-0862'},\n",
       " {'user_id': '181452ad-20c3-4e93-86ad-1934c9248903',\n",
       "  'app_version': '0.96',\n",
       "  'device_type': 'android',\n",
       "  'ip': '118.79.6.245',\n",
       "  'locale': 'ID',\n",
       "  'device_id': '190-44-3099'},\n",
       " {'user_id': '60b9441c-e39d-406f-bba0-c7ff0e0ee07f',\n",
       "  'app_version': '0.4.6',\n",
       "  'device_type': 'android',\n",
       "  'ip': '223.31.97.46',\n",
       "  'locale': 'FR',\n",
       "  'device_id': '149-99-5185'},\n",
       " {'user_id': '5082b1ae-6523-4e3b-a1d8-9750b4407ee8',\n",
       "  'app_version': '3.7',\n",
       "  'device_type': 'android',\n",
       "  'ip': '235.167.63.6',\n",
       "  'locale': None,\n",
       "  'device_id': '346-96-4168'},\n",
       " {'user_id': '5bc74293-3ca1-4f34-bb89-523887d0cc2f',\n",
       "  'app_version': '2.2.8',\n",
       "  'device_type': 'ios',\n",
       "  'ip': '240.162.230.101',\n",
       "  'locale': 'PT',\n",
       "  'device_id': '729-06-2799'},\n",
       " {'user_id': '92d8ceec-2e12-49f3-81bd-518fe66971ec',\n",
       "  'app_version': '0.5.5',\n",
       "  'device_type': 'android',\n",
       "  'ip': '194.99.130.72',\n",
       "  'locale': 'BR',\n",
       "  'device_id': '762-96-1217'},\n",
       " {'user_id': '05e153b1-4fa1-474c-bd7e-9f74d1c495e7',\n",
       "  'app_version': '0.5.0',\n",
       "  'device_type': 'android',\n",
       "  'ip': '163.2.96.136',\n",
       "  'locale': None,\n",
       "  'device_id': '431-77-3545'},\n",
       " {'user_id': '325c0f3d-da25-45ff-aff4-81816db069bc',\n",
       "  'app_version': '0.60',\n",
       "  'device_type': 'android',\n",
       "  'ip': '172.99.101.28',\n",
       "  'locale': 'RU',\n",
       "  'device_id': '649-26-7827'}]"
      ]
     },
     "execution_count": 84,
     "metadata": {},
     "output_type": "execute_result"
    }
   ],
   "source": [
    "bodies"
   ]
  },
  {
   "cell_type": "code",
   "execution_count": 85,
   "id": "41a84655",
   "metadata": {},
   "outputs": [],
   "source": [
    "def flatten_json(y):\n",
    "    out = {}\n",
    "\n",
    "    def flatten(x, name=''):\n",
    "        if type(x) is dict:\n",
    "            for a in x:\n",
    "                flatten(x[a], name + a + '_')\n",
    "        elif type(x) is list:\n",
    "            i = 0\n",
    "            for a in x:\n",
    "                flatten(a, name + str(i) + '_')\n",
    "                i += 1\n",
    "        else:\n",
    "            out[name[:-1]] = x\n",
    "\n",
    "    flatten(y)\n",
    "    return out\n"
   ]
  },
  {
   "cell_type": "code",
   "execution_count": 86,
   "id": "56ba08e5",
   "metadata": {},
   "outputs": [],
   "source": [
    "flattened_bodies = [flatten_json(body) for body in bodies]"
   ]
  },
  {
   "cell_type": "code",
   "execution_count": 87,
   "id": "4253f0d3",
   "metadata": {},
   "outputs": [],
   "source": [
    "import hashlib\n"
   ]
  },
  {
   "cell_type": "code",
   "execution_count": 88,
   "id": "fbc4c080",
   "metadata": {},
   "outputs": [],
   "source": [
    "def mask_data(input_data):\n",
    "    \"\"\"Return a SHA256 hashed version of the input data.\"\"\"\n",
    "    return hashlib.sha256(input_data.encode()).hexdigest()\n"
   ]
  },
  {
   "cell_type": "code",
   "execution_count": 89,
   "id": "84b3104e",
   "metadata": {},
   "outputs": [],
   "source": [
    "for body in flattened_bodies:\n",
    "    body['device_id'] = mask_data(body['device_id'])\n",
    "    body['ip'] = mask_data(body['ip'])\n"
   ]
  },
  {
   "cell_type": "code",
   "execution_count": 90,
   "id": "5a59a0e0",
   "metadata": {},
   "outputs": [
    {
     "data": {
      "text/plain": [
       "[{'user_id': '424cdd21-063a-43a7-b91b-7ca1a833afae',\n",
       "  'app_version': '2.3.0',\n",
       "  'device_type': 'android',\n",
       "  'ip': 'a6d0e2f27f6111e10b06790db42f34123e724aa0fd24b280f4a0ef5ee986784c',\n",
       "  'locale': 'RU',\n",
       "  'device_id': '4f00c1a807b673887c7af517d0df68e6b41aecf8cbec26c71fe4c580664669ed'},\n",
       " {'user_id': 'c0173198-76a8-4e67-bfc2-74eaa3bbff57',\n",
       "  'app_version': '0.2.6',\n",
       "  'device_type': 'ios',\n",
       "  'ip': '7b03f7d723535706b4777384fc906d18a4376bb84cebb50dc22c6eb9bddf00cb',\n",
       "  'locale': 'PH',\n",
       "  'device_id': 'a857e702f98990716938a0d74c3dc2dc565e4448833e2cf91c6ab26fc0e9971f'},\n",
       " {'user_id': '66e0635b-ce36-4ec7-aa9e-8a8fca9b83d4',\n",
       "  'app_version': '2.2.1',\n",
       "  'device_type': 'ios',\n",
       "  'ip': 'fa7fca28c658d75a751b60e262602e1b11f4149274af6ec0d8c82a8619a51437',\n",
       "  'locale': None,\n",
       "  'device_id': 'e84fb3e15175d0a2492de6c02a99595c1343db7321ad6bb5f62052edd00a84f8'},\n",
       " {'user_id': '181452ad-20c3-4e93-86ad-1934c9248903',\n",
       "  'app_version': '0.96',\n",
       "  'device_type': 'android',\n",
       "  'ip': 'b21d1c922d9e9d1b913ade3265baa7fc43c757976dcd7cac3ed2043176655396',\n",
       "  'locale': 'ID',\n",
       "  'device_id': '94b571f680b8f41547047f24e385334265773d33ab643bfc6f1684e21b8b34d9'},\n",
       " {'user_id': '60b9441c-e39d-406f-bba0-c7ff0e0ee07f',\n",
       "  'app_version': '0.4.6',\n",
       "  'device_type': 'android',\n",
       "  'ip': '587f5a111a1f2adb462f778574a91b93de3b29889deca6e25dd363588a5e0ccb',\n",
       "  'locale': 'FR',\n",
       "  'device_id': '3102ec6d1310b3db007305eaa5802b3831d4b4ae5f165e21ee1e3298f55e5616'},\n",
       " {'user_id': '5082b1ae-6523-4e3b-a1d8-9750b4407ee8',\n",
       "  'app_version': '3.7',\n",
       "  'device_type': 'android',\n",
       "  'ip': '8ff1dcf25f4b6b831000c6af50fe0ca5c03b8db525d3c8b955531d20e5904457',\n",
       "  'locale': None,\n",
       "  'device_id': '8d99f03f520c4faaf8cc1b0c2fcb88f9ece87e7984ca36bdb7feb98d53ba023d'},\n",
       " {'user_id': '5bc74293-3ca1-4f34-bb89-523887d0cc2f',\n",
       "  'app_version': '2.2.8',\n",
       "  'device_type': 'ios',\n",
       "  'ip': '4535674cdeafe9e1bbc4792de6891ddf6a6c21c7accd8087036402aefc7dc31e',\n",
       "  'locale': 'PT',\n",
       "  'device_id': 'facaa527add19a6ad0a9d3bc806b80e6e8b9cb2fcdedf4122ddc352035022832'},\n",
       " {'user_id': '92d8ceec-2e12-49f3-81bd-518fe66971ec',\n",
       "  'app_version': '0.5.5',\n",
       "  'device_type': 'android',\n",
       "  'ip': 'befc41fae56d97b40286a8ca77c179ae8e513388c74a73608c234463a1cb7d5c',\n",
       "  'locale': 'BR',\n",
       "  'device_id': '19ca7209461ccf164747bc93d56efb2f16fc3f14b1e3cf404dc157746adb7063'},\n",
       " {'user_id': '05e153b1-4fa1-474c-bd7e-9f74d1c495e7',\n",
       "  'app_version': '0.5.0',\n",
       "  'device_type': 'android',\n",
       "  'ip': '0d7f5fae97d2b525c78ce18b97fc4eb814e54c3874917aaaefc5ee15802c457e',\n",
       "  'locale': None,\n",
       "  'device_id': 'bd1bcce6493944b297b2e9d87163d7aa01856c8f23f1a660152e5c8ed54d85eb'},\n",
       " {'user_id': '325c0f3d-da25-45ff-aff4-81816db069bc',\n",
       "  'app_version': '0.60',\n",
       "  'device_type': 'android',\n",
       "  'ip': '5f1bb1f8901076482ca745b88ef02071bcf0abc887eabdb1d1a6c8b47dcdd841',\n",
       "  'locale': 'RU',\n",
       "  'device_id': '16efd8b6baabc95d04083e6d573aa6aa95a0dba3f4ee594d1ed3f60ddd909b19'}]"
      ]
     },
     "execution_count": 90,
     "metadata": {},
     "output_type": "execute_result"
    }
   ],
   "source": [
    "flattened_bodies\n",
    "\n",
    "#At this point, flattened_bodies will contain the transformed data with masked device_id and ip fields. "
   ]
  },
  {
   "cell_type": "code",
   "execution_count": 91,
   "id": "45be0c8a",
   "metadata": {},
   "outputs": [
    {
     "name": "stdout",
     "output_type": "stream",
     "text": [
      "Requirement already satisfied: psycopg2 in c:\\users\\tharu\\new folder\\lib\\site-packages (2.9.8)\n"
     ]
    }
   ],
   "source": [
    "!pip install psycopg2\n"
   ]
  },
  {
   "cell_type": "code",
   "execution_count": 92,
   "id": "b4dba493",
   "metadata": {},
   "outputs": [],
   "source": [
    "import psycopg2\n"
   ]
  },
  {
   "cell_type": "code",
   "execution_count": 96,
   "id": "ff15a742",
   "metadata": {},
   "outputs": [],
   "source": [
    "connection = psycopg2.connect(\n",
    "    dbname=\"postgres\",\n",
    "    user=\"postgres\",\n",
    "    password=\"Tharun@2403\",\n",
    "    host=\"localhost\",\n",
    "    port=\"5432\"\n",
    ")\n",
    "cursor = connection.cursor()\n"
   ]
  },
  {
   "cell_type": "code",
   "execution_count": 97,
   "id": "6255a16b",
   "metadata": {},
   "outputs": [],
   "source": [
    "def insert_into_db(data, cursor):\n",
    "    \"\"\"\n",
    "    Inserts data into the user_logins table.\n",
    "\n",
    "    :param data: Dictionary containing user data.\n",
    "    :param cursor: PostgreSQL cursor object.\n",
    "    \"\"\"\n",
    "    insert_query = \"\"\"\n",
    "    INSERT INTO user_logins (user_id, device_type, masked_ip, masked_device_id, locale, app_version, create_date)\n",
    "    VALUES (%s, %s, %s, %s, %s, %s, NOW())\n",
    "    \"\"\"\n",
    "    cursor.execute(insert_query, (\n",
    "        data[\"user_id\"], \n",
    "        data[\"device_type\"], \n",
    "        data[\"ip\"],  # Masked IP\n",
    "        data[\"device_id\"],  # Masked device_id\n",
    "        data.get(\"locale\", \"UNKNOWN\"),  # Using \"UNKNOWN\" if locale is None or not present\n",
    "        data[\"app_version\"]\n",
    "    ))\n"
   ]
  },
  {
   "cell_type": "code",
   "execution_count": 98,
   "id": "f3463651",
   "metadata": {},
   "outputs": [],
   "source": [
    "for body in flattened_bodies:\n",
    "    insert_into_db(body, cursor)\n"
   ]
  },
  {
   "cell_type": "code",
   "execution_count": 99,
   "id": "ae8cfcce",
   "metadata": {},
   "outputs": [],
   "source": [
    "connection.commit()\n",
    "cursor.close()\n",
    "connection.close()\n"
   ]
  },
  {
   "cell_type": "code",
   "execution_count": null,
   "id": "7a8ebcdb",
   "metadata": {},
   "outputs": [],
   "source": []
  },
  {
   "cell_type": "code",
   "execution_count": null,
   "id": "764b9c2c",
   "metadata": {},
   "outputs": [],
   "source": []
  },
  {
   "cell_type": "code",
   "execution_count": null,
   "id": "fae4217e",
   "metadata": {},
   "outputs": [],
   "source": []
  },
  {
   "cell_type": "code",
   "execution_count": null,
   "id": "bca0e437",
   "metadata": {},
   "outputs": [],
   "source": []
  }
 ],
 "metadata": {
  "kernelspec": {
   "display_name": "Python 3 (ipykernel)",
   "language": "python",
   "name": "python3"
  },
  "language_info": {
   "codemirror_mode": {
    "name": "ipython",
    "version": 3
   },
   "file_extension": ".py",
   "mimetype": "text/x-python",
   "name": "python",
   "nbconvert_exporter": "python",
   "pygments_lexer": "ipython3",
   "version": "3.10.9"
  }
 },
 "nbformat": 4,
 "nbformat_minor": 5
}
